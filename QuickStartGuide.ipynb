{
 "cells": [
  {
   "cell_type": "markdown",
   "metadata": {},
   "source": [
    "# Quick Start Guide"
   ]
  },
  {
   "cell_type": "markdown",
   "metadata": {},
   "source": [
    "We're going to use `cosi` to perform an MCMC simulation to estimate the stellar inclination angle ($i$) from stellar parameters: line-of-sight rotational velocity ($v\\sin(i)$), stellar radius ($R_{\\star}$), and stellar rotation period ($P_{rot}$)."
   ]
  },
  {
   "cell_type": "code",
   "execution_count": 1,
   "metadata": {},
   "outputs": [],
   "source": [
    "from cosi import CosI"
   ]
  },
  {
   "cell_type": "markdown",
   "metadata": {},
   "source": [
    "First, initialize the `CosI` class with `vsini`, `e_vsini`, `rstar`, `e_rstar`, `prot`, and `e_prot` where parameters with 'e_' represent uncertainties. `vsini` is in km/s, `rstar` is in solar radii, and `prot` is in days."
   ]
  },
  {
   "cell_type": "code",
   "execution_count": 2,
   "metadata": {},
   "outputs": [],
   "source": [
    "c = CosI(7.3, 0.3, 0.912, 0.034, 6.45, 0.05)"
   ]
  },
  {
   "cell_type": "markdown",
   "metadata": {},
   "source": [
    "Now, we run the MCMC estimation with 100 walkers for 1500 steps and extract the posterior distribution for $\\cos(i)$. By default, `get_posterior()` will discard the first 500 steps as burn-in."
   ]
  },
  {
   "cell_type": "code",
   "execution_count": 3,
   "metadata": {},
   "outputs": [
    {
     "name": "stderr",
     "output_type": "stream",
     "text": [
      "100%|██████████| 1500/1500 [00:01<00:00, 806.64it/s]\n"
     ]
    }
   ],
   "source": [
    "sampler = c.run_mcmc(100, 1500)\n",
    "\n",
    "cosi = c.get_posterior(sampler)"
   ]
  },
  {
   "cell_type": "markdown",
   "metadata": {},
   "source": [
    "Now that we have the posterior distribution, let's convert it to an angle in degrees and plot it as a histogram using `matplotlib.pyplot`."
   ]
  },
  {
   "cell_type": "code",
   "execution_count": 4,
   "metadata": {},
   "outputs": [
    {
     "data": {
      "image/png": "[encoded data removed]",
      "text/plain": [
       "<Figure size 864x432 with 1 Axes>"
      ]
     },
     "metadata": {
      "needs_background": "light"
     },
     "output_type": "display_data"
    }
   ],
   "source": [
    "import numpy as np\n",
    "import matplotlib.pyplot as plt\n",
    "\n",
    "i = np.arccos(cosi) * 180 / np.pi\n",
    "\n",
    "plt.figure(figsize=(12,6))\n",
    "\n",
    "plt.hist(i, bins=100, histtype='step', color='black')\n",
    "\n",
    "plt.xlabel(\"Stellar Inclination ($^{\\\\circ}$)\")\n",
    "plt.ylabel(\"N\")\n",
    "\n",
    "plt.show()"
   ]
  },
  {
   "cell_type": "code",
   "execution_count": null,
   "metadata": {},
   "outputs": [],
   "source": []
  }
 ],
 "metadata": {
  "kernelspec": {
   "display_name": "Python 3",
   "language": "python",
   "name": "python3"
  },
  "language_info": {
   "codemirror_mode": {
    "name": "ipython",
    "version": 3
   },
   "file_extension": ".py",
   "mimetype": "text/x-python",
   "name": "python",
   "nbconvert_exporter": "python",
   "pygments_lexer": "ipython3",
   "version": "3.7.9"
  }
 },
 "nbformat": 4,
 "nbformat_minor": 4
}
